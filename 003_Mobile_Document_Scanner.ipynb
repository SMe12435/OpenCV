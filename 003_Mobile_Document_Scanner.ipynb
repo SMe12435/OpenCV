{
 "cells": [
  {
   "cell_type": "markdown",
   "metadata": {},
   "source": [
    "<h2>Today Let's Make mobile document scanner</h2>\n",
    "<br>\n",
    "<h3>BASIC STEPS</h3>\n",
    "<br>\n",
    "<font color = \"#547485\">\n",
    "<h6>1. Detect Edges <br> 2. Use the edges to find the contours to represent document being scanned\n",
    "<br> 3. Apply perspective transform to obtain top-down view of the document</h6>\n",
    "    </font>"
   ]
  },
  {
   "cell_type": "code",
   "execution_count": 3,
   "metadata": {},
   "outputs": [],
   "source": [
    "#importing required libraries\n",
    "from pyimagesearch.transform import four_point_transform\n",
    "from skimage.filters import threshold_local\n",
    "import numpy as np\n",
    "import argparse\n",
    "import cv2\n",
    "import imutils\n",
    " \n"
   ]
  },
  {
   "cell_type": "code",
   "execution_count": 2,
   "metadata": {
    "scrolled": true
   },
   "outputs": [
    {
     "ename": "SyntaxError",
     "evalue": "unexpected EOF while parsing (<ipython-input-2-0eb48f80c4e8>, line 5)",
     "output_type": "error",
     "traceback": [
      "\u001b[0;36m  File \u001b[0;32m\"<ipython-input-2-0eb48f80c4e8>\"\u001b[0;36m, line \u001b[0;32m5\u001b[0m\n\u001b[0;31m    args = vars(ap.parse_args())\u001b[0m\n\u001b[0m                                ^\u001b[0m\n\u001b[0;31mSyntaxError\u001b[0m\u001b[0;31m:\u001b[0m unexpected EOF while parsing\n"
     ]
    }
   ],
   "source": [
    "#constructing the argument parser\n",
    "ap = argparse.ArgumentParser()\n",
    "ap.add_argument(\"-i\", \"--image\", required = True,\n",
    "    #help = \"Path to the image to be scanned\")\n",
    "args = vars(ap.parse_args())"
   ]
  },
  {
   "cell_type": "code",
   "execution_count": 31,
   "metadata": {},
   "outputs": [],
   "source": [
    "#loading the image from the arguments and compute the ratio of old height to new height\n",
    "#cloning it and resizing it.\n",
    "image = cv2.imread(\"doc1.jpeg\") #later change this to args[image] in order to take image as argument from the terminal\n",
    "ratio = image.shape[0]/500.0 #keeping track of the ratio of origional height to new height.. idk why.. let's see further\n",
    "orig = image.copy()\n",
    "image = imutils.resize(image,height = 500)\n",
    "\n"
   ]
  },
  {
   "cell_type": "code",
   "execution_count": 32,
   "metadata": {},
   "outputs": [],
   "source": [
    "#converting image to grayscale, adding gaussian blur and taking edged image\n",
    "gray = cv2.cvtColor(image,cv2.COLOR_BGR2GRAY)\n",
    "blur = cv2.GaussianBlur(gray,(5,5),0)\n",
    "edged = cv2.Canny(gray,50,90)"
   ]
  },
  {
   "cell_type": "code",
   "execution_count": 36,
   "metadata": {},
   "outputs": [
    {
     "name": "stdout",
     "output_type": "stream",
     "text": [
      "STEP1: Edge Detection Done\n"
     ]
    }
   ],
   "source": [
    "#show the origional image and the image after edge detection\n",
    "print(\"STEP1: Edge Detection Done\")\n",
    "cv2.imshow(\"Origional Image\",orig)\n",
    "cv2.imshow(\"Image after Edge Detection\",edged)\n",
    "cv2.waitKey(0)\n",
    "cv2.destroyAllWindows()"
   ]
  },
  {
   "cell_type": "markdown",
   "metadata": {},
   "source": [
    "<h2>Now lets found Contours</h2>"
   ]
  },
  {
   "cell_type": "code",
   "execution_count": 34,
   "metadata": {},
   "outputs": [
    {
     "name": "stdout",
     "output_type": "stream",
     "text": [
      "STEP2: Contour Done\n"
     ]
    }
   ],
   "source": [
    "#finding the contours in the edged image keeping on the largest edges and initializing the screen contours\n",
    "cnts = cv2.findContours(edged.copy(),cv2.RETR_LIST, cv2.CHAIN_APPROX_SIMPLE)\n",
    "cnts = imutils.grab_contours(cnts)\n",
    "cnts = sorted(cnts, key = cv2.contourArea, reverse = True)[:5]\n",
    "\n",
    "#loop for contours\n",
    "for c in cnts:\n",
    "    #approximating the contour\n",
    "    peri = cv2.arcLength(c,True)\n",
    "    approx = cv2.approxPolyDP(c,0.02*peri,True)\n",
    "    \n",
    "    #if our approximated contour has four points, then we can assume that we have found our screen\n",
    "    if len(approx) == 4:\n",
    "        screenCnt = approx\n",
    "        break\n",
    "        \n",
    "#show the contour on the image\n",
    "print(\"STEP2: Contour Done\")\n",
    "cv2.drawContours(image,[screenCnt], -1,(0,255,0),2)\n",
    "cv2.imshow(\"Outline\", image)\n",
    "cv2.waitKey(0)\n",
    "cv2.destroyAllWindows()"
   ]
  },
  {
   "cell_type": "code",
   "execution_count": 35,
   "metadata": {},
   "outputs": [
    {
     "name": "stdout",
     "output_type": "stream",
     "text": [
      "STEP3 : FINALLY APPLIED PERSPECTIVE TRANSFORM\n"
     ]
    },
    {
     "data": {
      "text/plain": [
       "<function destroyAllWindows>"
      ]
     },
     "execution_count": 35,
     "metadata": {},
     "output_type": "execute_result"
    }
   ],
   "source": [
    "#apply the four point transform to obtain a top-down view of origional image\n",
    "warped = four_point_transform(orig, screenCnt.reshape(4,2)*ratio)\n",
    "\n",
    "#convert the warped image to grayscale, and thresholding it to give it black and white paper effect\n",
    "warped = cv2.cvtColor(warped, cv2.COLOR_BGR2GRAY)\n",
    "T = threshold_local(warped,11,offset = 10, method = \"gaussian\")\n",
    "warped = (warped > T).astype(\"uint8\")*255\n",
    "\n",
    "#show the origional and scanned images\n",
    "print(\"STEP3 : FINALLY APPLIED PERSPECTIVE TRANSFORM\")\n",
    "cv2.imshow(\"Origional Image\", imutils.resize(orig,height = 650))\n",
    "cv2.imshow(\"Final Image\", imutils.resize(warped,height = 650))\n",
    "cv2.waitKey(0)\n",
    "cv2.destroyAllWindows"
   ]
  },
  {
   "cell_type": "code",
   "execution_count": null,
   "metadata": {},
   "outputs": [],
   "source": []
  }
 ],
 "metadata": {
  "kernelspec": {
   "display_name": "Python 3",
   "language": "python",
   "name": "python3"
  },
  "language_info": {
   "codemirror_mode": {
    "name": "ipython",
    "version": 3
   },
   "file_extension": ".py",
   "mimetype": "text/x-python",
   "name": "python",
   "nbconvert_exporter": "python",
   "pygments_lexer": "ipython3",
   "version": "3.7.0"
  }
 },
 "nbformat": 4,
 "nbformat_minor": 2
}
